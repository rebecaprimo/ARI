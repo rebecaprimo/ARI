{
  "nbformat": 4,
  "nbformat_minor": 0,
  "metadata": {
    "colab": {
      "provenance": [],
      "authorship_tag": "ABX9TyOgSnH5WIv+bTpqTineg3xG",
      "include_colab_link": true
    },
    "kernelspec": {
      "name": "python3",
      "display_name": "Python 3"
    },
    "language_info": {
      "name": "python"
    }
  },
  "cells": [
    {
      "cell_type": "markdown",
      "metadata": {
        "id": "view-in-github",
        "colab_type": "text"
      },
      "source": [
        "<a href=\"https://colab.research.google.com/github/rebecaprimo/ARI/blob/DEV/modulo8.ipynb\" target=\"_parent\"><img src=\"https://colab.research.google.com/assets/colab-badge.svg\" alt=\"Open In Colab\"/></a>"
      ]
    },
    {
      "cell_type": "markdown",
      "source": [
        "### ANÁLISE EXPLORATÓRIA DE DADOS - módulo 8\n",
        "Dados retirados do dataset Credito.csv\n",
        "\n",
        "---\n",
        "\n",
        "Será dividida em 4 partes: apresentação dos dados, exploração dos dados, análise dos dados e por fim, conclusão dos insights obtidos.\n",
        "\n",
        "### Dados:\n",
        "- idade\n",
        "- sexo\n",
        "- dependentes\n",
        "- escolaridade\n",
        "- estado_civil\n",
        "- salario_anual\n",
        "- tipo_cartao\n",
        "- qtd_produtos\n",
        "- iteracoes_12m\n",
        "- meses_inativo_12m\n",
        "- limite_credito\n",
        "- valor_transacoes_12m\n",
        "- qtd_transacoes_12m\n",
        "\n",
        "### Exploração dos dados:\n",
        "- query: SELECT * FROM credito LIMIT 10;\n",
        "![Exploração dos dados](https://github.com/rebecaprimo/ebac-modulo8/blob/main/Screenshot%202024-01-02%20at%2011.40.53.png)\n",
        "\n",
        "Com essa query, foi possível ter um primeiro contato com os dados, os tipos de cada coluna e como eles se relacionam.\n",
        "\n",
        "- query: SELECT COUNT(*) AS quant_linhas FROM credito;"
      ],
      "metadata": {
        "id": "_WQVvPHHvHRR"
      }
    }
  ]
}